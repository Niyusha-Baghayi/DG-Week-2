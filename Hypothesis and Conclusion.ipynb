{
 "cells": [
  {
   "cell_type": "markdown",
   "id": "typical-picking",
   "metadata": {
    "heading_collapsed": true
   },
   "source": [
    "# Check Profit"
   ]
  },
  {
   "cell_type": "markdown",
   "id": "fabulous-thesaurus",
   "metadata": {
    "heading_collapsed": true,
    "hidden": true
   },
   "source": [
    "## \n",
    "<ul>\n",
    "    <li style=\"font-weight:bold;\">Check if Yellow Cab has more Profit than Pink Cab or not?</li>\n",
    "</ul>"
   ]
  },
  {
   "cell_type": "code",
   "execution_count": 1,
   "id": "above-montreal",
   "metadata": {
    "ExecuteTime": {
     "end_time": "2021-03-06T22:13:00.859159Z",
     "start_time": "2021-03-06T22:13:00.830162Z"
    },
    "hidden": true
   },
   "outputs": [
    {
     "data": {
      "text/html": [
       "\n",
       "        <iframe\n",
       "            width=\"1500\"\n",
       "            height=\"700\"\n",
       "            src=\"Plot/Company's Profit by Year.html\"\n",
       "            frameborder=\"0\"\n",
       "            allowfullscreen\n",
       "        ></iframe>\n",
       "        "
      ],
      "text/plain": [
       "<IPython.lib.display.IFrame at 0x287a2996d30>"
      ]
     },
     "execution_count": 1,
     "metadata": {},
     "output_type": "execute_result"
    }
   ],
   "source": [
    "from IPython.display import IFrame\n",
    "IFrame(src=\"Plot/Company's Profit by Year.html\", width=1500, height=700)"
   ]
  },
  {
   "cell_type": "markdown",
   "id": "swiss-training",
   "metadata": {
    "ExecuteTime": {
     "end_time": "2021-03-06T16:13:26.043925Z",
     "start_time": "2021-03-06T16:13:26.027929Z"
    },
    "hidden": true
   },
   "source": [
    "<p style=\"font-size:150%; font-weight:bold;\">Conclusion:</p>\n",
    "<ul>\n",
    "    <li style=\"font-weight:bold;\">Yellow Cab has more Profit than Pink Cab Overally</li>\n",
    "    <li style=\"font-weight:bold;\">The baseline of Yellow Cab is upper than Pink Cab</li>\n",
    "    <li style=\"font-weight:bold;\">The slope of increasing profit from 2016 to 2017 is noticeably higher in Yellow Cab than Pink Cab</li>\n",
    "</ul>"
   ]
  },
  {
   "cell_type": "markdown",
   "id": "superb-binding",
   "metadata": {
    "heading_collapsed": true,
    "hidden": true
   },
   "source": [
    "## \n",
    "<ul>\n",
    "    <li style=\"font-weight:bold;\">Is total distance that Yellow Cab travelled is higher than Pink Cab?</li>\n",
    "    <li style=\"font-weight:bold;\">If Profit($) per distance(KM) is higher in Yellow Cab than Pink Cab?</li>\n",
    "</ul>"
   ]
  },
  {
   "cell_type": "code",
   "execution_count": 2,
   "id": "separated-tract",
   "metadata": {
    "ExecuteTime": {
     "end_time": "2021-03-06T22:13:00.875158Z",
     "start_time": "2021-03-06T22:13:00.863156Z"
    },
    "hidden": true
   },
   "outputs": [
    {
     "data": {
      "text/html": [
       "\n",
       "        <iframe\n",
       "            width=\"1500\"\n",
       "            height=\"700\"\n",
       "            src=\"Plot/Company's Profit vs KM Travelledr by Year.html\"\n",
       "            frameborder=\"0\"\n",
       "            allowfullscreen\n",
       "        ></iframe>\n",
       "        "
      ],
      "text/plain": [
       "<IPython.lib.display.IFrame at 0x287a29a8e80>"
      ]
     },
     "execution_count": 2,
     "metadata": {},
     "output_type": "execute_result"
    }
   ],
   "source": [
    "IFrame(src=\"Plot/Company's Profit vs KM Travelledr by Year.html\", width=1500, height=700)"
   ]
  },
  {
   "cell_type": "code",
   "execution_count": 3,
   "id": "legendary-shannon",
   "metadata": {
    "ExecuteTime": {
     "end_time": "2021-03-06T22:13:00.891159Z",
     "start_time": "2021-03-06T22:13:00.879158Z"
    },
    "hidden": true
   },
   "outputs": [
    {
     "data": {
      "text/html": [
       "\n",
       "        <iframe\n",
       "            width=\"1500\"\n",
       "            height=\"700\"\n",
       "            src=\"Plot/Profit-Distance by Year.html\"\n",
       "            frameborder=\"0\"\n",
       "            allowfullscreen\n",
       "        ></iframe>\n",
       "        "
      ],
      "text/plain": [
       "<IPython.lib.display.IFrame at 0x287a29a8280>"
      ]
     },
     "execution_count": 3,
     "metadata": {},
     "output_type": "execute_result"
    }
   ],
   "source": [
    "IFrame(src=\"Plot/Profit-Distance by Year.html\", width=1500, height=700)"
   ]
  },
  {
   "cell_type": "markdown",
   "id": "distant-cardiff",
   "metadata": {
    "ExecuteTime": {
     "end_time": "2021-03-06T16:13:26.043925Z",
     "start_time": "2021-03-06T16:13:26.027929Z"
    },
    "hidden": true
   },
   "source": [
    "<p style=\"font-size:150%; font-weight:bold;\">Conclusion:</p>\n",
    "<ul>\n",
    "    <li style=\"font-weight:bold;\">The total distance travelled by Yellow Cab is higher than Pink Cab</li>\n",
    "    <li style=\"font-weight:bold;\">Travelled distance in both companies increased from 2016 to 2017, but the value of Profit/Distance is decreased in both of them</li>\n",
    "    <li style=\"font-weight:bold;\">The value of Profit/Distance in Yellow Cab is noticeably higher than Pink Cab</li>\n",
    "    <li style=\"font-weight:bold;\">The value of Profit/Distance in both companies decreased from 2016 to 2018</li>\n",
    "    <li style=\"font-weight:bold;\">The margin of the value Profit/Distance between two companies is decreased over the years</li>\n",
    "    <li style=\"font-weight:bold;\">The margin of the total travelled distance between two companies is somehow constant over the years</li>\n",
    "</ul>"
   ]
  },
  {
   "cell_type": "markdown",
   "id": "mysterious-saint",
   "metadata": {
    "heading_collapsed": true,
    "hidden": true
   },
   "source": [
    "## \n",
    "<ul>\n",
    "    <li style=\"font-weight:bold;\">If there is any daily pattern for Profit?</li>\n",
    "</ul>"
   ]
  },
  {
   "cell_type": "code",
   "execution_count": 4,
   "id": "numerical-delaware",
   "metadata": {
    "ExecuteTime": {
     "end_time": "2021-03-06T22:13:00.907157Z",
     "start_time": "2021-03-06T22:13:00.894161Z"
    },
    "hidden": true
   },
   "outputs": [
    {
     "data": {
      "text/html": [
       "\n",
       "        <iframe\n",
       "            width=\"1500\"\n",
       "            height=\"700\"\n",
       "            src=\"Plot/Days of Week's Sum of Profit by Company.html\"\n",
       "            frameborder=\"0\"\n",
       "            allowfullscreen\n",
       "        ></iframe>\n",
       "        "
      ],
      "text/plain": [
       "<IPython.lib.display.IFrame at 0x287a29ef160>"
      ]
     },
     "execution_count": 4,
     "metadata": {},
     "output_type": "execute_result"
    }
   ],
   "source": [
    "IFrame(src=\"Plot/Days of Week's Sum of Profit by Company.html\", width=1500, height=700)"
   ]
  },
  {
   "cell_type": "markdown",
   "id": "graduate-cisco",
   "metadata": {
    "ExecuteTime": {
     "end_time": "2021-03-06T16:13:26.043925Z",
     "start_time": "2021-03-06T16:13:26.027929Z"
    },
    "hidden": true
   },
   "source": [
    "<p style=\"font-size:150%; font-weight:bold;\">Conclusion:</p>\n",
    "<ul>\n",
    "    <li style=\"font-weight:bold;\">The baseline of Yellow Cab is upper than Pink Cab</li>\n",
    "    <li style=\"font-weight:bold;\">The slope of increasing profit from Wednesday to Friday mostly Thursday to Friday is noticeably higher in Yellow Cab than Pink Cab</li>\n",
    "    <li style=\"font-weight:bold;\">The slope of decreasing profit from Friday to Saturday is higher in Yellow Cab than Pink Cab</li>\n",
    "    <li style=\"font-weight:bold;\">Yellow Cab has decreased from Saturday to Sunday, although Pink Cab has an insignificant increase in the same period</li>\n",
    "</ul>"
   ]
  },
  {
   "cell_type": "markdown",
   "id": "familiar-bernard",
   "metadata": {
    "heading_collapsed": true,
    "hidden": true
   },
   "source": [
    "## \n",
    "<ul>\n",
    "    <li style=\"font-weight:bold;\">Which company has more Profit by Cities?</li>\n",
    "</ul>"
   ]
  },
  {
   "cell_type": "code",
   "execution_count": 5,
   "id": "female-location",
   "metadata": {
    "ExecuteTime": {
     "end_time": "2021-03-06T22:13:00.923155Z",
     "start_time": "2021-03-06T22:13:00.910157Z"
    },
    "hidden": true
   },
   "outputs": [
    {
     "data": {
      "text/html": [
       "\n",
       "        <iframe\n",
       "            width=\"1500\"\n",
       "            height=\"700\"\n",
       "            src=\"Plot/Sum of Profit of Companies in Different Cities - Check mean of Income of Customers.html\"\n",
       "            frameborder=\"0\"\n",
       "            allowfullscreen\n",
       "        ></iframe>\n",
       "        "
      ],
      "text/plain": [
       "<IPython.lib.display.IFrame at 0x287a29ef6d0>"
      ]
     },
     "execution_count": 5,
     "metadata": {},
     "output_type": "execute_result"
    }
   ],
   "source": [
    "IFrame(src=\"Plot/Sum of Profit of Companies in Different Cities - Check mean of Income of Customers.html\", width=1500, height=700)"
   ]
  },
  {
   "cell_type": "markdown",
   "id": "domestic-surge",
   "metadata": {
    "ExecuteTime": {
     "end_time": "2021-03-06T16:13:26.043925Z",
     "start_time": "2021-03-06T16:13:26.027929Z"
    },
    "hidden": true
   },
   "source": [
    "<p style=\"font-size:150%; font-weight:bold;\">Conclusion:</p>\n",
    "<ul>\n",
    "    <li style=\"font-weight:bold;\">In most cities specially ones that cover majority of Profit, Yellow Cab is noticebly earn much Profit than Pink Cab</li>\n",
    "    <li style=\"font-weight:bold;\">NY covers the most Profit over cab industries</li>\n",
    "    <li style=\"font-weight:bold;\">Income of customers in Yellow Cab and Pink Cab are almost same per City although the Profit is much different (find in HTML)</li>\n",
    "</ul>"
   ]
  },
  {
   "cell_type": "markdown",
   "id": "afraid-passenger",
   "metadata": {
    "heading_collapsed": true
   },
   "source": [
    "# Check Counts of Trips"
   ]
  },
  {
   "cell_type": "markdown",
   "id": "applied-reaction",
   "metadata": {
    "heading_collapsed": true,
    "hidden": true
   },
   "source": [
    "## \n",
    "<ul>\n",
    "    <li style=\"font-weight:bold;\">Is there any daily pattern for Market Share (Counts of trip) in comparison of companies?</li>\n",
    "</ul>"
   ]
  },
  {
   "cell_type": "code",
   "execution_count": 6,
   "id": "subject-supplement",
   "metadata": {
    "ExecuteTime": {
     "end_time": "2021-03-06T22:13:00.939158Z",
     "start_time": "2021-03-06T22:13:00.929156Z"
    },
    "hidden": true
   },
   "outputs": [
    {
     "data": {
      "text/html": [
       "\n",
       "        <iframe\n",
       "            width=\"1500\"\n",
       "            height=\"700\"\n",
       "            src=\"Plot/Market Share by Days of week.html\"\n",
       "            frameborder=\"0\"\n",
       "            allowfullscreen\n",
       "        ></iframe>\n",
       "        "
      ],
      "text/plain": [
       "<IPython.lib.display.IFrame at 0x287a29ef760>"
      ]
     },
     "execution_count": 6,
     "metadata": {},
     "output_type": "execute_result"
    }
   ],
   "source": [
    "IFrame(src=\"Plot/Market Share by Days of week.html\", width=1500, height=700)"
   ]
  },
  {
   "cell_type": "markdown",
   "id": "substantial-beach",
   "metadata": {
    "ExecuteTime": {
     "end_time": "2021-03-06T16:13:26.043925Z",
     "start_time": "2021-03-06T16:13:26.027929Z"
    },
    "hidden": true
   },
   "source": [
    "<p style=\"font-size:150%; font-weight:bold;\">Conclusion:</p>\n",
    "<ul>\n",
    "    <li style=\"font-weight:bold;\">There is almost no specific daily pattern for market share for none of companies</li>\n",
    "    <li style=\"font-weight:bold;\">Yellow Cab has always around 70 percent of market and the Pink Cab has 30 percent of it</li>\n",
    "</ul>"
   ]
  },
  {
   "cell_type": "markdown",
   "id": "defined-dealing",
   "metadata": {
    "heading_collapsed": true,
    "hidden": true
   },
   "source": [
    "## \n",
    "<ul>\n",
    "    <li style=\"font-weight:bold;\">Is there any daily pattern for Counts of trip in comparison of companies?</li>\n",
    "</ul>"
   ]
  },
  {
   "cell_type": "code",
   "execution_count": 7,
   "id": "beneficial-springer",
   "metadata": {
    "ExecuteTime": {
     "end_time": "2021-03-06T22:13:00.955156Z",
     "start_time": "2021-03-06T22:13:00.945157Z"
    },
    "hidden": true
   },
   "outputs": [
    {
     "data": {
      "text/html": [
       "\n",
       "        <iframe\n",
       "            width=\"1500\"\n",
       "            height=\"700\"\n",
       "            src=\"Plot/Count of trips by Days of week.html\"\n",
       "            frameborder=\"0\"\n",
       "            allowfullscreen\n",
       "        ></iframe>\n",
       "        "
      ],
      "text/plain": [
       "<IPython.lib.display.IFrame at 0x287a29ef640>"
      ]
     },
     "execution_count": 7,
     "metadata": {},
     "output_type": "execute_result"
    }
   ],
   "source": [
    "IFrame(src=\"Plot/Count of trips by Days of week.html\", width=1500, height=700)"
   ]
  },
  {
   "cell_type": "markdown",
   "id": "diagnostic-reverse",
   "metadata": {
    "ExecuteTime": {
     "end_time": "2021-03-06T16:13:26.043925Z",
     "start_time": "2021-03-06T16:13:26.027929Z"
    },
    "hidden": true
   },
   "source": [
    "<p style=\"font-size:150%; font-weight:bold;\">Conclusion:</p>\n",
    "<ul>\n",
    "    <li style=\"font-weight:bold;\">Both companies almost follow the same pattern for count of trips by Days of Week</li>\n",
    "    <li style=\"font-weight:bold;\">Yellow Cab is more popular than Pink Cab every day!</li>\n",
    "    <li style=\"font-weight:bold;\">The margin between two companies is noticeable</li>\n",
    "    <li style=\"font-weight:bold;\">Both companies has the most count of trips on Friday</li>\n",
    "    <li style=\"font-weight:bold;\">Both companies has the most count of trips after Friday on Saturday</li>\n",
    "    <li style=\"font-weight:bold;\">Yellow Cab experienced sharpen changes than Pink Cab</li>\n",
    "    <li style=\"font-weight:bold;\">People use cabs mostly at weekends</li>\n",
    "</ul>"
   ]
  },
  {
   "cell_type": "markdown",
   "id": "included-asthma",
   "metadata": {
    "heading_collapsed": true,
    "hidden": true
   },
   "source": [
    "## \n",
    "<ul>\n",
    "    <li style=\"font-weight:bold;\">What happens to Count of Trips in Holidays?</li>\n",
    "</ul>"
   ]
  },
  {
   "cell_type": "code",
   "execution_count": 8,
   "id": "elder-purpose",
   "metadata": {
    "ExecuteTime": {
     "end_time": "2021-03-06T22:13:00.971158Z",
     "start_time": "2021-03-06T22:13:00.959168Z"
    },
    "hidden": true
   },
   "outputs": [
    {
     "data": {
      "text/html": [
       "\n",
       "        <iframe\n",
       "            width=\"1500\"\n",
       "            height=\"700\"\n",
       "            src=\"Plot/Holiday's Transactions of Different Cities by Company in 3 Years.html\"\n",
       "            frameborder=\"0\"\n",
       "            allowfullscreen\n",
       "        ></iframe>\n",
       "        "
      ],
      "text/plain": [
       "<IPython.lib.display.IFrame at 0x287a29ef1f0>"
      ]
     },
     "execution_count": 8,
     "metadata": {},
     "output_type": "execute_result"
    }
   ],
   "source": [
    "IFrame(src=\"Plot/Holiday's Transactions of Different Cities by Company in 3 Years.html\", width=1500, height=700)"
   ]
  },
  {
   "cell_type": "markdown",
   "id": "ethical-november",
   "metadata": {
    "ExecuteTime": {
     "end_time": "2021-03-06T16:13:26.043925Z",
     "start_time": "2021-03-06T16:13:26.027929Z"
    },
    "hidden": true
   },
   "source": [
    "<p style=\"font-size:150%; font-weight:bold;\">Conclusion:</p>\n",
    "<ul>\n",
    "    <li style=\"font-weight:bold;\">The Count of trips by Yellow Cab is higher than Pink Cab overally in holidays</li>\n",
    "    <li style=\"font-weight:bold;\">Pink Cab has more trips on some days in some cities like trips in Sacramento CA on Chrismas day</li>\n",
    "    <li style=\"font-weight:bold;\">Yellow Cab is more popular than Pink Cab overally</li>\n",
    "    <li style=\"font-weight:bold;\">Both cab companies have the most trips on holidays on Chrismas day</li>\n",
    "    <li style=\"font-weight:bold;\">After Chrismas day, Thanksgiving day is the second popular Holiday, mostly shown in Yellow Cab trips</li>\n",
    "</ul>"
   ]
  },
  {
   "cell_type": "markdown",
   "id": "printable-theorem",
   "metadata": {
    "heading_collapsed": true
   },
   "source": [
    "# Check Customer's Behaviour"
   ]
  },
  {
   "cell_type": "markdown",
   "id": "joined-filling",
   "metadata": {
    "heading_collapsed": true,
    "hidden": true
   },
   "source": [
    "## \n",
    "<ul>\n",
    "    <li style=\"font-weight:bold;\">Which company has the most loyal customers?</li>\n",
    "</ul>"
   ]
  },
  {
   "cell_type": "code",
   "execution_count": 9,
   "id": "chinese-devices",
   "metadata": {
    "ExecuteTime": {
     "end_time": "2021-03-06T22:13:00.987165Z",
     "start_time": "2021-03-06T22:13:00.975158Z"
    },
    "hidden": true
   },
   "outputs": [
    {
     "data": {
      "text/html": [
       "\n",
       "        <iframe\n",
       "            width=\"1500\"\n",
       "            height=\"700\"\n",
       "            src=\"Plot/Customers Histogram - Check Retention of Customers by Company.html\"\n",
       "            frameborder=\"0\"\n",
       "            allowfullscreen\n",
       "        ></iframe>\n",
       "        "
      ],
      "text/plain": [
       "<IPython.lib.display.IFrame at 0x287a29ef850>"
      ]
     },
     "execution_count": 9,
     "metadata": {},
     "output_type": "execute_result"
    }
   ],
   "source": [
    "IFrame(src=\"Plot/Customers Histogram - Check Retention of Customers by Company.html\", width=1500, height=700)"
   ]
  },
  {
   "cell_type": "code",
   "execution_count": 10,
   "id": "recorded-arctic",
   "metadata": {
    "ExecuteTime": {
     "end_time": "2021-03-06T22:13:01.003160Z",
     "start_time": "2021-03-06T22:13:00.991156Z"
    },
    "hidden": true
   },
   "outputs": [
    {
     "data": {
      "text/html": [
       "\n",
       "        <iframe\n",
       "            width=\"1500\"\n",
       "            height=\"700\"\n",
       "            src=\"Plot/User Retention.html\"\n",
       "            frameborder=\"0\"\n",
       "            allowfullscreen\n",
       "        ></iframe>\n",
       "        "
      ],
      "text/plain": [
       "<IPython.lib.display.IFrame at 0x287a29efca0>"
      ]
     },
     "execution_count": 10,
     "metadata": {},
     "output_type": "execute_result"
    }
   ],
   "source": [
    "IFrame(src=\"Plot/User Retention.html\", width=1500, height=700)"
   ]
  },
  {
   "cell_type": "markdown",
   "id": "charged-criminal",
   "metadata": {
    "ExecuteTime": {
     "end_time": "2021-03-06T16:13:26.043925Z",
     "start_time": "2021-03-06T16:13:26.027929Z"
    },
    "hidden": true
   },
   "source": [
    "<p style=\"font-size:150%; font-weight:bold;\">Conclusion:</p>\n",
    "<ul>\n",
    "    <li style=\"font-weight:bold;\">Yellow Cab has more loyal customers</li>\n",
    "    <li style=\"font-weight:bold;\">People who get back to Yellow Cab is noticably more than who are loyal to Pink Cab</li>\n",
    "    <li style=\"font-weight:bold;\">Customers more like to get a car from Yellow Cab for another time than Pink Cab</li>\n",
    "    <li style=\"font-weight:bold;\">Pink Company is more attractive at first as we can see for who only use Cab service once, Pink Company is preferable</li>\n",
    "    <li style=\"font-weight:bold;\">Count of people who use one cab service is decreasing by increasing the number of trips</li>\n",
    "    <li style=\"font-weight:bold;\">The maximum number of trips that one customer has done for Yellow Cab is around 45 and for Pink Cab is around 18</li>\n",
    "    <li style=\"font-weight:bold;\">The number 7 in Number of Trips is a critical number which count of customers for both companies are same, less than 7 Pink Cab is more popular and more than 7 Yellow Cab is more popular</li>\n",
    "</ul>"
   ]
  },
  {
   "cell_type": "markdown",
   "id": "intensive-wisdom",
   "metadata": {
    "heading_collapsed": true,
    "hidden": true
   },
   "source": [
    "## \n",
    "<ul>\n",
    "    <li style=\"font-weight:bold;\">How's the distribution of customers in different cities for each companies?</li>\n",
    "</ul>"
   ]
  },
  {
   "cell_type": "code",
   "execution_count": 11,
   "id": "automated-central",
   "metadata": {
    "ExecuteTime": {
     "end_time": "2021-03-06T22:13:01.019155Z",
     "start_time": "2021-03-06T22:13:01.006159Z"
    },
    "hidden": true
   },
   "outputs": [
    {
     "data": {
      "text/html": [
       "\n",
       "        <iframe\n",
       "            width=\"1500\"\n",
       "            height=\"700\"\n",
       "            src=\"Plot/Cities Histogram - Check Count of Customers in Each Cities by Company.html\"\n",
       "            frameborder=\"0\"\n",
       "            allowfullscreen\n",
       "        ></iframe>\n",
       "        "
      ],
      "text/plain": [
       "<IPython.lib.display.IFrame at 0x287a29ef580>"
      ]
     },
     "execution_count": 11,
     "metadata": {},
     "output_type": "execute_result"
    }
   ],
   "source": [
    "IFrame(src=\"Plot/Cities Histogram - Check Count of Customers in Each Cities by Company.html\", width=1500, height=700)"
   ]
  },
  {
   "cell_type": "markdown",
   "id": "strange-samuel",
   "metadata": {
    "ExecuteTime": {
     "end_time": "2021-03-06T16:13:26.043925Z",
     "start_time": "2021-03-06T16:13:26.027929Z"
    },
    "hidden": true
   },
   "source": [
    "<p style=\"font-size:150%; font-weight:bold;\">Conclusion:</p>\n",
    "<ul>\n",
    "    <li style=\"font-weight:bold;\">Yellow Cab has is more popular mostly</li>\n",
    "    <li style=\"font-weight:bold;\">In \"PITTSBURGH PA\", \"SAN DIEGO CA\", \"SACRAMENTO CA\" and \"NASHVILLIE TN\" Pink Cab is merely more popular than Yellow Cab</li>\n",
    "    <li style=\"font-weight:bold;\">According to section 1.4 the cities which mentioned above can not provide much Profit for Pink Cab</li>\n",
    "</ul>"
   ]
  },
  {
   "cell_type": "markdown",
   "id": "golden-spanking",
   "metadata": {
    "heading_collapsed": true,
    "hidden": true
   },
   "source": [
    "## \n",
    "<ul>\n",
    "    <li style=\"font-weight:bold;\">Customer's gender has an effect on Profit and counts of trip or not?</li>\n",
    "</ul>"
   ]
  },
  {
   "cell_type": "code",
   "execution_count": 12,
   "id": "lasting-engine",
   "metadata": {
    "ExecuteTime": {
     "end_time": "2021-03-06T22:13:01.035173Z",
     "start_time": "2021-03-06T22:13:01.022158Z"
    },
    "hidden": true
   },
   "outputs": [
    {
     "data": {
      "text/html": [
       "\n",
       "        <iframe\n",
       "            width=\"1500\"\n",
       "            height=\"700\"\n",
       "            src=\"Plot/Count of Customers by Company&Gender  - Check Sum of Profit of Each Gender by Company.html\"\n",
       "            frameborder=\"0\"\n",
       "            allowfullscreen\n",
       "        ></iframe>\n",
       "        "
      ],
      "text/plain": [
       "<IPython.lib.display.IFrame at 0x287a29efb50>"
      ]
     },
     "execution_count": 12,
     "metadata": {},
     "output_type": "execute_result"
    }
   ],
   "source": [
    "IFrame(src=\"Plot/Count of Customers by Company&Gender  - Check Sum of Profit of Each Gender by Company.html\", width=1500, height=700)"
   ]
  },
  {
   "cell_type": "markdown",
   "id": "scenic-sitting",
   "metadata": {
    "ExecuteTime": {
     "end_time": "2021-03-06T16:13:26.043925Z",
     "start_time": "2021-03-06T16:13:26.027929Z"
    },
    "hidden": true
   },
   "source": [
    "<p style=\"font-size:150%; font-weight:bold;\">Conclusion:</p>\n",
    "<ul>\n",
    "    <li style=\"font-weight:bold;\">Males are majority by slim margin in both companies</li>\n",
    "    <li style=\"font-weight:bold;\">Males bring more profit for cab industry</li>\n",
    "    <li style=\"font-weight:bold;\">Yellow Cab has noticebly more customers both in Male and Female groups</li>\n",
    "</ul>"
   ]
  },
  {
   "cell_type": "markdown",
   "id": "proud-retrieval",
   "metadata": {
    "heading_collapsed": true
   },
   "source": [
    "# Model Analysis"
   ]
  },
  {
   "cell_type": "markdown",
   "id": "geological-equation",
   "metadata": {
    "hidden": true
   },
   "source": [
    "<p style=\"font-weight:bold; color:green; font-size:150%\">Train set is the data for years 2016 and 2017 and the Test set is the data for 2018</p>"
   ]
  },
  {
   "cell_type": "markdown",
   "id": "rental-titanium",
   "metadata": {
    "ExecuteTime": {
     "end_time": "2021-03-06T22:25:33.296692Z",
     "start_time": "2021-03-06T22:25:33.275694Z"
    },
    "heading_collapsed": true,
    "hidden": true
   },
   "source": [
    "## Linear Correlation\n"
   ]
  },
  {
   "cell_type": "markdown",
   "id": "loose-diamond",
   "metadata": {
    "hidden": true
   },
   "source": [
    "<p style=\"font-weight:bold;\">I have tried to implement a regression model to predict Profit. First of all we should know about the correlation of Profit with other features:</p>\n",
    "<p style=\"font-weight:bold;\">The features mentioned are the 20 most correlated features to Profit</p>\n",
    "<p style=\"font-weight:bold; color:green\">Noted: One hot encoding is applied on categorical features</p>\n",
    "<hr>\n",
    "<img src=\"Plot\\Images\\Corr.PNG\">"
   ]
  },
  {
   "cell_type": "markdown",
   "id": "cutting-preserve",
   "metadata": {
    "heading_collapsed": true,
    "hidden": true
   },
   "source": [
    "## Linear Regression"
   ]
  },
  {
   "cell_type": "markdown",
   "id": "smoking-tanzania",
   "metadata": {
    "hidden": true
   },
   "source": [
    "<p style=\"font-weight:bold;\">Score = 0.576227478461399</p>\n",
    "<p style=\"font-weight:bold;\">The table of predicted Profit and the real one is:</p>\n",
    "<hr>\n",
    "<img src=\"Plot\\Images\\Linear Regression.PNG\">"
   ]
  },
  {
   "cell_type": "markdown",
   "id": "meaning-collectible",
   "metadata": {
    "heading_collapsed": true,
    "hidden": true
   },
   "source": [
    "## Ridge Regression"
   ]
  },
  {
   "cell_type": "markdown",
   "id": "respiratory-generic",
   "metadata": {
    "hidden": true
   },
   "source": [
    "<p style=\"font-weight:bold;\">Score = 0.5763882412556443</p>\n",
    "<p style=\"font-weight:bold;\">The table of predicted Profit and the real one is:</p>\n",
    "<hr>\n",
    "<img src=\"Plot\\Images\\Ridge Regression.PNG\">"
   ]
  },
  {
   "cell_type": "markdown",
   "id": "lined-disclosure",
   "metadata": {
    "heading_collapsed": true,
    "hidden": true
   },
   "source": [
    "## XGBoost"
   ]
  },
  {
   "cell_type": "markdown",
   "id": "split-clone",
   "metadata": {
    "heading_collapsed": true,
    "hidden": true
   },
   "source": [
    "### "
   ]
  },
  {
   "cell_type": "markdown",
   "id": "acceptable-galaxy",
   "metadata": {
    "ExecuteTime": {
     "end_time": "2021-03-06T22:41:03.778548Z",
     "start_time": "2021-03-06T22:41:03.766554Z"
    },
    "hidden": true
   },
   "source": [
    "<p style=\"font-weight:bold;\">Mean Squared Error = 92.4144328314398</p>\n",
    "<p style=\"font-weight:bold;\">The table of predicted Profit and the real one is:</p>\n",
    "<hr>\n",
    "<img src=\"Plot\\Images\\XGBoost-1.PNG\">"
   ]
  },
  {
   "cell_type": "markdown",
   "id": "connected-father",
   "metadata": {
    "heading_collapsed": true,
    "hidden": true
   },
   "source": [
    "### After Hyperparameter Tunning"
   ]
  },
  {
   "cell_type": "markdown",
   "id": "median-surgery",
   "metadata": {
    "hidden": true
   },
   "source": [
    "<p style=\"font-weight:bold;\">Mean Squared Error = 70.22724510947654</p>\n",
    "<p style=\"font-weight:bold;\">The table of predicted Profit and the real one is:</p>\n",
    "<hr>\n",
    "<img src=\"Plot\\Images\\XGBoost-2.PNG\">"
   ]
  },
  {
   "cell_type": "markdown",
   "id": "broke-smoke",
   "metadata": {
    "heading_collapsed": true,
    "hidden": true
   },
   "source": [
    "### Conclusion"
   ]
  },
  {
   "cell_type": "markdown",
   "id": "secondary-parker",
   "metadata": {
    "hidden": true
   },
   "source": [
    "<p>XGBoost after hyperparameter tunning is almost the best regression model that can be implemented to predict Profit, but as we have seen in the results even it's not the acceptable model to predict the Profit, so for more accurate models we need more data. In this case we can be content with all the analysis which we have done on the data.</p>"
   ]
  },
  {
   "cell_type": "markdown",
   "id": "fossil-andrews",
   "metadata": {
    "heading_collapsed": true
   },
   "source": [
    "# Conclusion"
   ]
  },
  {
   "cell_type": "markdown",
   "id": "elegant-physics",
   "metadata": {
    "hidden": true
   },
   "source": [
    "<ul>\n",
    "    <li>Yellow Cab has more profitable manner</li>\n",
    "    <li>Yellow Cab experience more sharpen effects than Pink Cab, both in increasing and decreasing profit and other factors</li>\n",
    "    <li>Investing in Yellow Cab can be a better solution based on the three years data, it's rarely possible that Yellow Cab experience a decline</li>\n",
    "    <li>Investing on Yellow Cab is somehow more riskey as if it face an issue the effects on it can be more noticeably than Pink Cab</li>\n",
    "    <li>A small fault can cause a huge decline in Yellow Cab's Profit than Pink Cab</li>\n",
    "    <li>If everything goes right, the Yellow Cab company can become bigger and bigger, and investing in it can be the best decision</li>\n",
    "</ul>"
   ]
  }
 ],
 "metadata": {
  "kernelspec": {
   "display_name": "Python 3",
   "language": "python",
   "name": "python3"
  },
  "language_info": {
   "codemirror_mode": {
    "name": "ipython",
    "version": 3
   },
   "file_extension": ".py",
   "mimetype": "text/x-python",
   "name": "python",
   "nbconvert_exporter": "python",
   "pygments_lexer": "ipython3",
   "version": "3.8.5"
  },
  "toc": {
   "base_numbering": 1,
   "nav_menu": {},
   "number_sections": true,
   "sideBar": true,
   "skip_h1_title": false,
   "title_cell": "Table of Contents",
   "title_sidebar": "Contents",
   "toc_cell": false,
   "toc_position": {},
   "toc_section_display": true,
   "toc_window_display": false
  }
 },
 "nbformat": 4,
 "nbformat_minor": 5
}
